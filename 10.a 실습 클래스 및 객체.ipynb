{
 "cells": [
  {
   "cell_type": "markdown",
   "id": "b59f8a52-0642-40d3-bae8-e92a342c3461",
   "metadata": {},
   "source": [
    "# 파이썬 객체 지향"
   ]
  },
  {
   "cell_type": "markdown",
   "id": "0b1d9694-f1cd-472c-b896-7c487dd6811a",
   "metadata": {},
   "source": [
    "- 클래스 : 객체의 설계도\n",
    "- 객체 : 클래스의 인스턴스, 클래스 메모리에 생성된 상태\n",
    "  "
   ]
  },
  {
   "cell_type": "markdown",
   "id": "7e0f5904-b5cd-4792-b1d1-91ef785f9056",
   "metadata": {},
   "source": [
    "## 클래스의 정의"
   ]
  },
  {
   "cell_type": "code",
   "execution_count": 1,
   "id": "8ab9a57e-2875-4c99-892b-11a29e664305",
   "metadata": {},
   "outputs": [],
   "source": [
    "# class 이름 :\n",
    "#     속성1 # 클래스 내의 변수\n",
    "#     속성2\n",
    "\n",
    "#     매서드 # 클래스의 함수"
   ]
  },
  {
   "cell_type": "code",
   "execution_count": 33,
   "id": "8dbb8e60-0f04-4bad-ac5c-bfd75fcedb91",
   "metadata": {},
   "outputs": [],
   "source": [
    "class Product :\n",
    "    # 생성자\n",
    "    def __init__(self, sku, name, price, color):\n",
    "        self.sku = sku\n",
    "        self.name = name\n",
    "        self.price = price\n",
    "        self.color = color"
   ]
  },
  {
   "cell_type": "code",
   "execution_count": 43,
   "id": "a626a5a6-067e-4406-9ad8-c9df756702b8",
   "metadata": {},
   "outputs": [
    {
     "data": {
      "text/plain": [
       "<__main__.Product at 0x235ea041b10>"
      ]
     },
     "execution_count": 43,
     "metadata": {},
     "output_type": "execute_result"
    }
   ],
   "source": [
    "# 클래스의 인스턴스 <- 객체\n",
    "apple = Product(100, \"Apple\", 10000, \"Black\")\n",
    "apple"
   ]
  },
  {
   "cell_type": "code",
   "execution_count": 28,
   "id": "dc9cca4b-5c36-4c2b-a6d5-15e5c4b926b1",
   "metadata": {},
   "outputs": [
    {
     "data": {
      "text/plain": [
       "100"
      ]
     },
     "execution_count": 28,
     "metadata": {},
     "output_type": "execute_result"
    }
   ],
   "source": [
    "apple.sku"
   ]
  },
  {
   "cell_type": "code",
   "execution_count": 32,
   "id": "9aba263c-5e99-4ef7-8634-9b784bf90222",
   "metadata": {},
   "outputs": [
    {
     "data": {
      "text/plain": [
       "'samsung'"
      ]
     },
     "execution_count": 32,
     "metadata": {},
     "output_type": "execute_result"
    }
   ],
   "source": [
    "samsung1 = Product(300, \"samsung\", 30000)\n",
    "samsung1.sku\n",
    "samsung1.name"
   ]
  },
  {
   "cell_type": "code",
   "execution_count": 34,
   "id": "8267a5ba-3f9d-4111-ae64-86af88847826",
   "metadata": {},
   "outputs": [
    {
     "data": {
      "text/plain": [
       "'red'"
      ]
     },
     "execution_count": 34,
     "metadata": {},
     "output_type": "execute_result"
    }
   ],
   "source": [
    "samsung2 = Product(300, \"samsung\", 50000, \"red\")\n",
    "samsung2.color"
   ]
  },
  {
   "cell_type": "markdown",
   "id": "2d540ed5-9a1c-4d5c-bc6a-a9b5c693093f",
   "metadata": {},
   "source": [
    "## 클래스의 메소드"
   ]
  },
  {
   "cell_type": "code",
   "execution_count": 35,
   "id": "213cde93-24cf-4934-ab21-097dbd0d267c",
   "metadata": {},
   "outputs": [],
   "source": [
    "# 설계도\n",
    "class CartItem:\n",
    "    # 생성자 함수\n",
    "    def __init__(self, product, quantity):\n",
    "        self.product = product\n",
    "        self.quantity = quantity\n",
    "\n",
    "    # 매소드 정의 (동작)\n",
    "    def total_price(self):\n",
    "        return self.product.price * self.quantity\n",
    "    "
   ]
  },
  {
   "cell_type": "code",
   "execution_count": 38,
   "id": "5ac16d7a-841c-4f0b-9110-487e06ff46a5",
   "metadata": {},
   "outputs": [
    {
     "data": {
      "text/plain": [
       "100"
      ]
     },
     "execution_count": 38,
     "metadata": {},
     "output_type": "execute_result"
    }
   ],
   "source": [
    "apple.sku"
   ]
  },
  {
   "cell_type": "code",
   "execution_count": 44,
   "id": "8784fccc-375f-4172-acfe-3354c51f9ce6",
   "metadata": {},
   "outputs": [],
   "source": [
    "# CartItem 인스턴스 생성(객체)\n",
    "# apple을 3개로 객체 생성\n",
    "item = CartItem(apple, 3)"
   ]
  },
  {
   "cell_type": "code",
   "execution_count": 45,
   "id": "5054b0d1-9ea2-4d82-b84f-fb5e5c0e80d1",
   "metadata": {},
   "outputs": [
    {
     "data": {
      "text/plain": [
       "'Apple'"
      ]
     },
     "execution_count": 45,
     "metadata": {},
     "output_type": "execute_result"
    }
   ],
   "source": [
    "item.product.name"
   ]
  },
  {
   "cell_type": "code",
   "execution_count": 48,
   "id": "0b006bdd-2b4a-4fcf-847f-8d987e404807",
   "metadata": {},
   "outputs": [
    {
     "data": {
      "text/plain": [
       "'Black'"
      ]
     },
     "execution_count": 48,
     "metadata": {},
     "output_type": "execute_result"
    }
   ],
   "source": [
    "# item 안에 있는 apple product의 색깔을 출력\n",
    "item.product.color"
   ]
  },
  {
   "cell_type": "code",
   "execution_count": 51,
   "id": "f7593674-20bc-48e9-8172-58e2036f927d",
   "metadata": {},
   "outputs": [
    {
     "data": {
      "text/plain": [
       "3"
      ]
     },
     "execution_count": 51,
     "metadata": {},
     "output_type": "execute_result"
    }
   ],
   "source": [
    "item.quantity"
   ]
  },
  {
   "cell_type": "code",
   "execution_count": 52,
   "id": "2fc09ac1-6c9c-421c-83c6-d026b003e5d5",
   "metadata": {},
   "outputs": [
    {
     "data": {
      "text/plain": [
       "30000"
      ]
     },
     "execution_count": 52,
     "metadata": {},
     "output_type": "execute_result"
    }
   ],
   "source": [
    "# 객체의 메소드 호출\n",
    "item.total_price()"
   ]
  }
 ],
 "metadata": {
  "kernelspec": {
   "display_name": "eda_env",
   "language": "python",
   "name": "eda_env"
  },
  "language_info": {
   "codemirror_mode": {
    "name": "ipython",
    "version": 3
   },
   "file_extension": ".py",
   "mimetype": "text/x-python",
   "name": "python",
   "nbconvert_exporter": "python",
   "pygments_lexer": "ipython3",
   "version": "3.10.18"
  }
 },
 "nbformat": 4,
 "nbformat_minor": 5
}
